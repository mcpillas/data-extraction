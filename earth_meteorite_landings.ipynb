{
 "cells": [
  {
   "cell_type": "markdown",
   "metadata": {},
   "source": [
    "## Step 1: Import Libraries\n",
    "In this step, we import all the necessary libraries for data fetching, cleaning, analysis, and visualization."
   ]
  },
  {
   "cell_type": "code",
   "execution_count": 3,
   "metadata": {},
   "outputs": [],
   "source": [
    "# Import required libraries\n",
    "import requests\n",
    "import pandas as pd\n",
    "import seaborn as sns\n",
    "import matplotlib.pyplot as plt\n",
    "# from ipywidgets import interact\n",
    "\n",
    "# Set Matplotlib inline for Jupyter Notebook\n",
    "%matplotlib inline\n"
   ]
  },
  {
   "cell_type": "markdown",
   "metadata": {},
   "source": [
    "## Step 2: Define Constants and Helper Functions\n",
    "Here we define constants (like the dataset URL) and helper functions."
   ]
  },
  {
   "cell_type": "markdown",
   "metadata": {},
   "source": [
    "### Constants"
   ]
  },
  {
   "cell_type": "code",
   "execution_count": 4,
   "metadata": {},
   "outputs": [],
   "source": [
    "DATA_URL = \"https://data.nasa.gov/resource/y77d-th95.json\"\n"
   ]
  },
  {
   "cell_type": "markdown",
   "metadata": {},
   "source": [
    "### Helper Functions"
   ]
  },
  {
   "cell_type": "code",
   "execution_count": 51,
   "metadata": {},
   "outputs": [],
   "source": [
    "def fetch_data(url):\n",
    "    \"\"\"\n",
    "    Fetch JSON data from the provided URL.\n",
    "\n",
    "    Args:\n",
    "        url (str): The URL to fetch data from.\n",
    "\n",
    "    Returns:\n",
    "        list: A list of dictionaries containing the dataset.\n",
    "              Returns an empty list if the request fails.\n",
    "    \"\"\"\n",
    "    try:\n",
    "        response = requests.get(url)\n",
    "        response.raise_for_status()  # Raise an error for bad HTTP responses\n",
    "        return response.json()\n",
    "    except requests.exceptions.RequestException as e:\n",
    "        print(f\"Error fetching data: {e}\")\n",
    "        return []\n",
    "\n",
    "def clean_data(data):\n",
    "    \"\"\"\n",
    "    Convert JSON data to a Pandas DataFrame and clean it.\n",
    "\n",
    "    - Handles missing values.\n",
    "    - Converts columns to appropriate data types.\n",
    "    - Extracts the year from datetime values.\n",
    "\n",
    "    Args:\n",
    "        data (list): A list of dictionaries representing the dataset.\n",
    "\n",
    "    Returns:\n",
    "        pd.DataFrame: A cleaned DataFrame with valid `mass` and `year` columns.\n",
    "                      Returns an empty DataFrame if critical columns are missing.\n",
    "    \"\"\"\n",
    "    # Load data into a DataFrame\n",
    "    df = pd.DataFrame(data)\n",
    "\n",
    "    # Ensure critical columns exist in the dataset\n",
    "    if 'mass' not in df.columns or 'year' not in df.columns:\n",
    "        print(\"Critical columns ('mass', 'year') are missing from the dataset.\")\n",
    "        return pd.DataFrame()\n",
    "\n",
    "    # Handle missing or malformed data\n",
    "    df['mass'] = pd.to_numeric(df['mass'], errors='coerce')  # Convert mass to float, set invalid values to NaN\n",
    "    df['year'] = pd.to_datetime(df['year'], errors='coerce')  # Convert year to datetime, set invalid values to NaT\n",
    "\n",
    "    # Drop rows with missing critical values (mass or year)\n",
    "    df = df.dropna(subset=['mass', 'year'])\n",
    "\n",
    "    # Extract only the year part from the datetime column for analysis\n",
    "    df['year'] = df['year'].dt.year\n",
    "\n",
    "    return df\n",
    "\n",
    "def analyze_data(df):\n",
    "    \"\"\"\n",
    "    Analyze the dataset to extract key insights.\n",
    "\n",
    "    - Counts total entries.\n",
    "    - Finds the most massive meteorite.\n",
    "    - Identifies the most frequent year of meteorite landings.\n",
    "\n",
    "    Args:\n",
    "        df (pd.DataFrame): The cleaned DataFrame.\n",
    "\n",
    "    Returns:\n",
    "        dict: A dictionary containing:\n",
    "              - total_entries (int): Total number of entries in the dataset.\n",
    "              - most_massive_name (str): Name of the most massive meteorite.\n",
    "              - most_massive_mass (float): Mass of the most massive meteorite.\n",
    "              - most_frequent_year (int): Year with the most meteorite landings.\n",
    "              - most_frequent_count (int): Number of landings in that year.\n",
    "    \"\"\"\n",
    "    results = {}\n",
    "\n",
    "    # Total number of entries\n",
    "    results['total_entries'] = len(df)\n",
    "\n",
    "    # Most massive meteorite\n",
    "    most_massive = df.loc[df['mass'].idxmax()]\n",
    "    results['most_massive_name'] = most_massive['name']\n",
    "    results['most_massive_mass'] = most_massive['mass']\n",
    "\n",
    "    # Most frequent year\n",
    "    most_frequent_year = df['year'].value_counts().idxmax()\n",
    "    most_frequent_count = df['year'].value_counts().max()\n",
    "    results['most_frequent_year'] = most_frequent_year\n",
    "    results['most_frequent_count'] = most_frequent_count\n",
    "\n",
    "    return results\n",
    "\n",
    "def visualize_data(df):\n",
    "    \"\"\"\n",
    "    Create visualizations for better understanding of the dataset.\n",
    "\n",
    "    - Bar chart: Meteorite counts per year.\n",
    "    - Histogram: Distribution of meteorite masses.\n",
    "    - Scatter plot: Mass vs. Year.\n",
    "\n",
    "    Args:\n",
    "        df (pd.DataFrame): The cleaned DataFrame.\n",
    "\n",
    "    Saves:\n",
    "        meteorite_counts_per_year.png: Bar chart showing counts per year.\n",
    "        meteorite_mass_distribution.png: Histogram showing mass distribution.\n",
    "        scatter_mass_vs_year.png: Scatter plot of mass vs. year.\n",
    "    \"\"\"\n",
    "    # Bar chart: Meteorite counts per year\n",
    "    plt.figure(figsize=(12, 6))\n",
    "    sns.countplot(x='year',\n",
    "                  data=df,\n",
    "                  palette='viridis',\n",
    "                  hue='year',\n",
    "                  legend=False,\n",
    "                  order=sorted(df['year'].unique()))\n",
    "    # Show every 5th year as a label\n",
    "    years = sorted(df['year'].unique())\n",
    "    tick_positions = range(0, len(years), 5)\n",
    "    tick_labels = [years[i] for i in tick_positions]\n",
    "    plt.xticks(ticks=tick_positions,\n",
    "               labels=tick_labels,\n",
    "               rotation=45,\n",
    "               ha='right')\n",
    "    plt.title('Meteorite Counts Per Year')\n",
    "    plt.xlabel('Year')\n",
    "    plt.ylabel('Count')\n",
    "    plt.tight_layout()\n",
    "    plt.show()\n",
    "\n",
    "    # Histogram: Distribution of meteorite masses (log-scaled)\n",
    "    plt.figure(figsize=(12, 6))\n",
    "    # Filter dataset to exclude extreme outliers\n",
    "    filtered_df = df[df['mass'] <= 100000]\n",
    "    sns.histplot(filtered_df['mass'], bins=100, kde=True, color='blue')\n",
    "    # Highlight mean and median with vertical lines\n",
    "    mean_mass = filtered_df['mass'].mean()\n",
    "    median_mass = filtered_df['mass'].median()\n",
    "    plt.axvline(mean_mass, color='red', linestyle='--', label=f'Mean: {mean_mass:.2f}g')\n",
    "    plt.axvline(median_mass, color='green', linestyle='--', label=f'Median: {median_mass:.2f}g')\n",
    "    plt.legend()\n",
    "    plt.xscale('log')\n",
    "    plt.title('Log-Scaled Distribution of Meteorite Masses (Filtered)')\n",
    "    plt.xlabel('Mass (log scale)')\n",
    "    plt.ylabel('Frequency')\n",
    "    plt.tight_layout()\n",
    "    plt.show()\n",
    "\n",
    "    # Scatter plot: Mass vs. Year (log-scaled)\n",
    "    plt.figure(figsize=(12, 6))\n",
    "    sns.scatterplot(x='year', y='mass', data=df, alpha=0.7, color='red')\n",
    "    plt.title('Meteorite Mass vs. Year')\n",
    "    plt.xlabel('Year')\n",
    "    plt.ylabel('Mass (grams)')\n",
    "    plt.yscale(\"log\")\n",
    "    plt.tight_layout()\n",
    "    plt.show()\n"
   ]
  },
  {
   "cell_type": "markdown",
   "metadata": {},
   "source": [
    "## Step 3: Fetch Data\n",
    "Fetch raw JSON data from NASA's API and check if it was retrieved successfully."
   ]
  },
  {
   "cell_type": "code",
   "execution_count": null,
   "metadata": {},
   "outputs": [],
   "source": [
    "# Fetch raw data from the API\n",
    "print(\"Fetching data...\")\n",
    "raw_data = fetch_data(DATA_URL)\n",
    "\n",
    "# Check if data was fetched successfully\n",
    "if raw_data:\n",
    "    print(f\"Successfully fetched {len(raw_data)} records.\")\n",
    "else:\n",
    "    print(\"No data was fetched.\")\n"
   ]
  },
  {
   "cell_type": "markdown",
   "metadata": {},
   "source": [
    "## Step 4: Clean Data\n",
    "Clean and preprocess the fetched data by handling missing values and converting columns to appropriate types."
   ]
  },
  {
   "cell_type": "code",
   "execution_count": null,
   "metadata": {},
   "outputs": [],
   "source": [
    "# Clean and preprocess the fetched data\n",
    "print(\"Cleaning data...\")\n",
    "df = clean_data(raw_data)\n",
    "\n",
    "# Check if cleaning was successful and display a preview of the DataFrame\n",
    "if not df.empty:\n",
    "    print(f\"Data cleaned successfully. Total valid records: {len(df)}\")\n",
    "else:\n",
    "    print(\"The dataset is empty after cleaning.\")\n",
    "\n",
    "df.head()  # Display first few rows for inspection\n",
    "\n",
    "# Display summary statistics for key columns (mass and year)\n",
    "print(\"\\nSummary Statistics:\")\n",
    "display(df[['mass', 'year']].describe())\n"
   ]
  },
  {
   "cell_type": "markdown",
   "metadata": {},
   "source": [
    "## Step 5: Analyze Data\n",
    "Analyze the cleaned dataset to extract key insights such as total entries, most massive meteorite, and most frequent year."
   ]
  },
  {
   "cell_type": "code",
   "execution_count": null,
   "metadata": {},
   "outputs": [],
   "source": [
    "# Analyze the cleaned dataset for insights\n",
    "print(\"Analyzing data...\")\n",
    "results = analyze_data(df)\n",
    "\n",
    "# Display analysis results in a structured format using a DataFrame\n",
    "analysis_results = pd.DataFrame({\n",
    "      \"Metric\": [\"Total Entries\", \"Most Massive Meteorite\", \"Mass (grams)\", \"Most Frequent Year\", \"Occurrences\"],\n",
    "      \"Value\": [\n",
    "          results['total_entries'],\n",
    "          results['most_massive_name'],\n",
    "          results['most_massive_mass'],\n",
    "          results['most_frequent_year'],\n",
    "          results['most_frequent_count']\n",
    "      ]\n",
    "})\n",
    "display(analysis_results)\n"
   ]
  },
  {
   "cell_type": "markdown",
   "metadata": {},
   "source": [
    "## Step 6: Visualize Data\n",
    "Create visualizations to better understand patterns in meteorite landings over time and their mass distribution."
   ]
  },
  {
   "cell_type": "code",
   "execution_count": null,
   "metadata": {},
   "outputs": [],
   "source": [
    "# Visualize the dataset using Seaborn and Matplotlib plots\n",
    "print(\"Creating visualizations...\")\n",
    "visualize_data(df)\n"
   ]
  },
  {
   "cell_type": "markdown",
   "metadata": {},
   "source": [
    "## Conclusion\n",
    "\n",
    "- The dataset contains 960 valid meteorite landings after cleaning.\n",
    "- The most massive meteorite is named \"Sikhote-Alin\" with a mass of 23000000.0 grams.\n",
    "- The year with the highest number of meteorite landings is 1933 with 16 occurrences.\n",
    "\n",
    "Visualizations provide further insights into yearly trends and mass distributions."
   ]
  }
 ],
 "metadata": {
  "kernelspec": {
   "display_name": "data_extraction",
   "language": "python",
   "name": "python3"
  },
  "language_info": {
   "codemirror_mode": {
    "name": "ipython",
    "version": 3
   },
   "file_extension": ".py",
   "mimetype": "text/x-python",
   "name": "python",
   "nbconvert_exporter": "python",
   "pygments_lexer": "ipython3",
   "version": "3.13.1"
  }
 },
 "nbformat": 4,
 "nbformat_minor": 2
}
